{
 "cells": [
  {
   "cell_type": "markdown",
   "id": "5b0a0208-5b27-4ed2-9516-1e4b9d595d46",
   "metadata": {
    "tags": []
   },
   "source": [
    "# Data Science Tools and Ecosystem"
   ]
  },
  {
   "cell_type": "markdown",
   "id": "cab06e58-3aa3-4f0a-a0dd-b96953412745",
   "metadata": {},
   "source": [
    "In this notebook, Data Science Tools and Ecosystem are summarized."
   ]
  },
  {
   "cell_type": "markdown",
   "id": "04383156-65e6-4e2a-a4e1-b1bdf7ef6891",
   "metadata": {},
   "source": [
    "Some of the popular languages that Data Scientists use are: \n",
    " 1. Python\n",
    " 2. R\n",
    " 3. SQL"
   ]
  },
  {
   "cell_type": "markdown",
   "id": "6a9b74d8-272e-4f42-86fe-59e8520d1b09",
   "metadata": {
    "tags": []
   },
   "source": [
    "Some of the commonly used libraries used by Data Scientists include:\n",
    " 1. NumPy\n",
    " 5. Pandas\n",
    " 4. Seaborn\n"
   ]
  },
  {
   "cell_type": "markdown",
   "id": "d80658f5-2824-4c51-9dd0-fcf7cdfe1dd3",
   "metadata": {},
   "source": [
    "| Data Science Tools |\n",
    "| ------------------ |\n",
    "| Jupyter Notebook |\n",
    "| IBM Watson Studio |\n",
    "| GitHub |\n"
   ]
  },
  {
   "cell_type": "markdown",
   "id": "70c3d798-ceef-403a-8af4-8f4b47c4aec7",
   "metadata": {},
   "source": [
    "### Below are a few examples of evaluating arithmetic expressions in Python"
   ]
  },
  {
   "cell_type": "code",
   "execution_count": 1,
   "id": "b10a1f69-06ac-4804-adf4-67ae27dfbf0b",
   "metadata": {
    "tags": []
   },
   "outputs": [
    {
     "data": {
      "text/plain": [
       "17"
      ]
     },
     "execution_count": 1,
     "metadata": {},
     "output_type": "execute_result"
    }
   ],
   "source": [
    "#This a simple arithmetic expression to mutiply then add integers\n",
    "(3*4)+5"
   ]
  },
  {
   "cell_type": "code",
   "execution_count": 2,
   "id": "d200cccb-1ca4-4c20-b39b-c3351e9807b5",
   "metadata": {
    "tags": []
   },
   "outputs": [
    {
     "data": {
      "text/plain": [
       "3.3333333333333335"
      ]
     },
     "execution_count": 2,
     "metadata": {},
     "output_type": "execute_result"
    }
   ],
   "source": [
    "#This will convert 200 minutes to hours by diving by 60\n",
    "200/60"
   ]
  },
  {
   "cell_type": "markdown",
   "id": "73296ab3-6697-4efb-b92e-0e32b19e40e7",
   "metadata": {
    "tags": []
   },
   "source": [
    "**Objectives:** \n",
    "\n",
    "- Pandas\n",
    "- NumPy\n",
    "- Python \n",
    "- R"
   ]
  },
  {
   "cell_type": "markdown",
   "id": "db0825f0-e7c7-43db-9226-580c9d8476f9",
   "metadata": {},
   "source": [
    "## Author\n",
    "Farouk"
   ]
  }
 ],
 "metadata": {
  "kernelspec": {
   "display_name": "Python",
   "language": "python",
   "name": "conda-env-python-py"
  },
  "language_info": {
   "codemirror_mode": {
    "name": "ipython",
    "version": 3
   },
   "file_extension": ".py",
   "mimetype": "text/x-python",
   "name": "python",
   "nbconvert_exporter": "python",
   "pygments_lexer": "ipython3",
   "version": "3.7.12"
  }
 },
 "nbformat": 4,
 "nbformat_minor": 5
}
